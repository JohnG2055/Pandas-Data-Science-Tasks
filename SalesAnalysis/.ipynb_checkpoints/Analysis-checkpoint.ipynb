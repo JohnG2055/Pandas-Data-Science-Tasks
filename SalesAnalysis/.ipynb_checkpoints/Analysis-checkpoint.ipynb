{
 "cells": [
  {
   "cell_type": "markdown",
   "metadata": {},
   "source": [
    "# Sales Analysis\n",
    "\n",
    "\n",
    "\n",
    "### Import Necessary Libraries"
   ]
  },
  {
   "cell_type": "code",
   "execution_count": 1,
   "metadata": {},
   "outputs": [],
   "source": [
    "import glob\n",
    "import pandas as pd\n",
    "import matplotlib.pyplot as plt\n",
    "from itertools import combinations\n",
    "from collections import Counter"
   ]
  },
  {
   "cell_type": "markdown",
   "metadata": {},
   "source": [
    "### Task #1: Merging 12 months of sales data into a single file"
   ]
  },
  {
   "cell_type": "code",
   "execution_count": 2,
   "metadata": {},
   "outputs": [
    {
     "data": {
      "text/plain": [
       "Series([], dtype: float64)"
      ]
     },
     "execution_count": 2,
     "metadata": {},
     "output_type": "execute_result"
    }
   ],
   "source": [
    "# Merge the data sales\n",
    "combined_csv = pd.concat([pd.read_csv(sales) for sales in glob.glob('./Sales_Data/*.csv')])\n",
    "\n",
    "# Remove the rows that restate the column names\n",
    "df_removed = combined_csv[combined_csv['Product']!='Product']\n",
    "\n",
    "# Remove completely empty rows\n",
    "df = df_removed[df_removed.notnull().all(axis=1)]\n",
    "\n",
    "# Check to make sure there are no empty rows\n",
    "null_columns=df.columns[df.isnull().any()]\n",
    "df[null_columns].isnull().sum()\n"
   ]
  },
  {
   "cell_type": "markdown",
   "metadata": {},
   "source": [
    "Saving the 12 months as a .csv file."
   ]
  },
  {
   "cell_type": "code",
   "execution_count": 3,
   "metadata": {},
   "outputs": [],
   "source": [
    "df.to_csv('combined_sales.csv', index=False)"
   ]
  },
  {
   "cell_type": "code",
   "execution_count": 4,
   "metadata": {},
   "outputs": [
    {
     "data": {
      "text/html": [
       "<div>\n",
       "<style scoped>\n",
       "    .dataframe tbody tr th:only-of-type {\n",
       "        vertical-align: middle;\n",
       "    }\n",
       "\n",
       "    .dataframe tbody tr th {\n",
       "        vertical-align: top;\n",
       "    }\n",
       "\n",
       "    .dataframe thead th {\n",
       "        text-align: right;\n",
       "    }\n",
       "</style>\n",
       "<table border=\"1\" class=\"dataframe\">\n",
       "  <thead>\n",
       "    <tr style=\"text-align: right;\">\n",
       "      <th></th>\n",
       "      <th>Order ID</th>\n",
       "      <th>Product</th>\n",
       "      <th>Quantity Ordered</th>\n",
       "      <th>Price Each</th>\n",
       "      <th>Order Date</th>\n",
       "      <th>Purchase Address</th>\n",
       "    </tr>\n",
       "  </thead>\n",
       "  <tbody>\n",
       "    <tr>\n",
       "      <td>0</td>\n",
       "      <td>295665</td>\n",
       "      <td>Macbook Pro Laptop</td>\n",
       "      <td>1</td>\n",
       "      <td>1700</td>\n",
       "      <td>12/30/19 00:01</td>\n",
       "      <td>136 Church St, New York City, NY 10001</td>\n",
       "    </tr>\n",
       "    <tr>\n",
       "      <td>1</td>\n",
       "      <td>295666</td>\n",
       "      <td>LG Washing Machine</td>\n",
       "      <td>1</td>\n",
       "      <td>600.0</td>\n",
       "      <td>12/29/19 07:03</td>\n",
       "      <td>562 2nd St, New York City, NY 10001</td>\n",
       "    </tr>\n",
       "    <tr>\n",
       "      <td>2</td>\n",
       "      <td>295667</td>\n",
       "      <td>USB-C Charging Cable</td>\n",
       "      <td>1</td>\n",
       "      <td>11.95</td>\n",
       "      <td>12/12/19 18:21</td>\n",
       "      <td>277 Main St, New York City, NY 10001</td>\n",
       "    </tr>\n",
       "    <tr>\n",
       "      <td>3</td>\n",
       "      <td>295668</td>\n",
       "      <td>27in FHD Monitor</td>\n",
       "      <td>1</td>\n",
       "      <td>149.99</td>\n",
       "      <td>12/22/19 15:13</td>\n",
       "      <td>410 6th St, San Francisco, CA 94016</td>\n",
       "    </tr>\n",
       "    <tr>\n",
       "      <td>4</td>\n",
       "      <td>295669</td>\n",
       "      <td>USB-C Charging Cable</td>\n",
       "      <td>1</td>\n",
       "      <td>11.95</td>\n",
       "      <td>12/18/19 12:38</td>\n",
       "      <td>43 Hill St, Atlanta, GA 30301</td>\n",
       "    </tr>\n",
       "    <tr>\n",
       "      <td>5</td>\n",
       "      <td>295670</td>\n",
       "      <td>AA Batteries (4-pack)</td>\n",
       "      <td>1</td>\n",
       "      <td>3.84</td>\n",
       "      <td>12/31/19 22:58</td>\n",
       "      <td>200 Jefferson St, New York City, NY 10001</td>\n",
       "    </tr>\n",
       "    <tr>\n",
       "      <td>6</td>\n",
       "      <td>295671</td>\n",
       "      <td>USB-C Charging Cable</td>\n",
       "      <td>1</td>\n",
       "      <td>11.95</td>\n",
       "      <td>12/16/19 15:10</td>\n",
       "      <td>928 12th St, Portland, OR 97035</td>\n",
       "    </tr>\n",
       "    <tr>\n",
       "      <td>7</td>\n",
       "      <td>295672</td>\n",
       "      <td>USB-C Charging Cable</td>\n",
       "      <td>2</td>\n",
       "      <td>11.95</td>\n",
       "      <td>12/13/19 09:29</td>\n",
       "      <td>813 Hickory St, Dallas, TX 75001</td>\n",
       "    </tr>\n",
       "    <tr>\n",
       "      <td>8</td>\n",
       "      <td>295673</td>\n",
       "      <td>Bose SoundSport Headphones</td>\n",
       "      <td>1</td>\n",
       "      <td>99.99</td>\n",
       "      <td>12/15/19 23:26</td>\n",
       "      <td>718 Wilson St, Dallas, TX 75001</td>\n",
       "    </tr>\n",
       "    <tr>\n",
       "      <td>9</td>\n",
       "      <td>295674</td>\n",
       "      <td>AAA Batteries (4-pack)</td>\n",
       "      <td>4</td>\n",
       "      <td>2.99</td>\n",
       "      <td>12/28/19 11:51</td>\n",
       "      <td>77 7th St, Dallas, TX 75001</td>\n",
       "    </tr>\n",
       "  </tbody>\n",
       "</table>\n",
       "</div>"
      ],
      "text/plain": [
       "  Order ID                     Product Quantity Ordered Price Each  \\\n",
       "0   295665          Macbook Pro Laptop                1       1700   \n",
       "1   295666          LG Washing Machine                1      600.0   \n",
       "2   295667        USB-C Charging Cable                1      11.95   \n",
       "3   295668            27in FHD Monitor                1     149.99   \n",
       "4   295669        USB-C Charging Cable                1      11.95   \n",
       "5   295670       AA Batteries (4-pack)                1       3.84   \n",
       "6   295671        USB-C Charging Cable                1      11.95   \n",
       "7   295672        USB-C Charging Cable                2      11.95   \n",
       "8   295673  Bose SoundSport Headphones                1      99.99   \n",
       "9   295674      AAA Batteries (4-pack)                4       2.99   \n",
       "\n",
       "       Order Date                           Purchase Address  \n",
       "0  12/30/19 00:01     136 Church St, New York City, NY 10001  \n",
       "1  12/29/19 07:03        562 2nd St, New York City, NY 10001  \n",
       "2  12/12/19 18:21       277 Main St, New York City, NY 10001  \n",
       "3  12/22/19 15:13        410 6th St, San Francisco, CA 94016  \n",
       "4  12/18/19 12:38              43 Hill St, Atlanta, GA 30301  \n",
       "5  12/31/19 22:58  200 Jefferson St, New York City, NY 10001  \n",
       "6  12/16/19 15:10            928 12th St, Portland, OR 97035  \n",
       "7  12/13/19 09:29           813 Hickory St, Dallas, TX 75001  \n",
       "8  12/15/19 23:26            718 Wilson St, Dallas, TX 75001  \n",
       "9  12/28/19 11:51                77 7th St, Dallas, TX 75001  "
      ]
     },
     "execution_count": 4,
     "metadata": {},
     "output_type": "execute_result"
    }
   ],
   "source": [
    "df.head(10)"
   ]
  },
  {
   "cell_type": "markdown",
   "metadata": {},
   "source": [
    "## Question 1: What was the best month for sales? How much was earned that month?"
   ]
  },
  {
   "cell_type": "markdown",
   "metadata": {},
   "source": [
    "This was my original approach. <br /><br />\n",
    "Although it worked, I ended up not using it because it was too complicated and Keith Galli's approach was much quicker and easier."
   ]
  },
  {
   "cell_type": "code",
   "execution_count": 5,
   "metadata": {},
   "outputs": [],
   "source": [
    "# month_list = []\n",
    "\n",
    "# for date in df.loc[:,'Order Date']:\n",
    "#     month = date[:2]\n",
    "#     month_list.append(month)\n",
    "\n",
    "# months = pd.Series(month_list)\n",
    "# df['Months'] = months.values\n"
   ]
  },
  {
   "cell_type": "markdown",
   "metadata": {},
   "source": [
    "This was Galli's approach. It is done in one line, but I do not know how to remove the 'SettingWithCopyWarning'"
   ]
  },
  {
   "cell_type": "code",
   "execution_count": 6,
   "metadata": {},
   "outputs": [
    {
     "name": "stderr",
     "output_type": "stream",
     "text": [
      "/Users/johngonzalez/opt/anaconda3/lib/python3.7/site-packages/ipykernel_launcher.py:2: SettingWithCopyWarning: \n",
      "A value is trying to be set on a copy of a slice from a DataFrame.\n",
      "Try using .loc[row_indexer,col_indexer] = value instead\n",
      "\n",
      "See the caveats in the documentation: http://pandas.pydata.org/pandas-docs/stable/user_guide/indexing.html#returning-a-view-versus-a-copy\n",
      "  \n",
      "/Users/johngonzalez/opt/anaconda3/lib/python3.7/site-packages/ipykernel_launcher.py:5: SettingWithCopyWarning: \n",
      "A value is trying to be set on a copy of a slice from a DataFrame.\n",
      "Try using .loc[row_indexer,col_indexer] = value instead\n",
      "\n",
      "See the caveats in the documentation: http://pandas.pydata.org/pandas-docs/stable/user_guide/indexing.html#returning-a-view-versus-a-copy\n",
      "  \"\"\"\n"
     ]
    }
   ],
   "source": [
    "# Add 'Month' column to the df\n",
    "df['Month'] = df['Order Date'].str[:2]\n",
    "\n",
    "# Convert 'Month' column to number instead of string\n",
    "df['Month'] = df['Month'].astype(int)"
   ]
  },
  {
   "cell_type": "markdown",
   "metadata": {},
   "source": [
    "Now that the month column has been added, we should multiply the 'Price Each' column with the 'Quantity Ordered' column to figure out how much was made on each order."
   ]
  },
  {
   "cell_type": "code",
   "execution_count": 7,
   "metadata": {
    "scrolled": true
   },
   "outputs": [
    {
     "name": "stderr",
     "output_type": "stream",
     "text": [
      "/Users/johngonzalez/opt/anaconda3/lib/python3.7/site-packages/ipykernel_launcher.py:2: SettingWithCopyWarning: \n",
      "A value is trying to be set on a copy of a slice from a DataFrame.\n",
      "Try using .loc[row_indexer,col_indexer] = value instead\n",
      "\n",
      "See the caveats in the documentation: http://pandas.pydata.org/pandas-docs/stable/user_guide/indexing.html#returning-a-view-versus-a-copy\n",
      "  \n",
      "/Users/johngonzalez/opt/anaconda3/lib/python3.7/site-packages/ipykernel_launcher.py:4: SettingWithCopyWarning: \n",
      "A value is trying to be set on a copy of a slice from a DataFrame.\n",
      "Try using .loc[row_indexer,col_indexer] = value instead\n",
      "\n",
      "See the caveats in the documentation: http://pandas.pydata.org/pandas-docs/stable/user_guide/indexing.html#returning-a-view-versus-a-copy\n",
      "  after removing the cwd from sys.path.\n",
      "/Users/johngonzalez/opt/anaconda3/lib/python3.7/site-packages/ipykernel_launcher.py:8: SettingWithCopyWarning: \n",
      "A value is trying to be set on a copy of a slice from a DataFrame.\n",
      "Try using .loc[row_indexer,col_indexer] = value instead\n",
      "\n",
      "See the caveats in the documentation: http://pandas.pydata.org/pandas-docs/stable/user_guide/indexing.html#returning-a-view-versus-a-copy\n",
      "  \n"
     ]
    }
   ],
   "source": [
    "# Convert 'Quantity Ordered' \n",
    "df['Quantity Ordered'] = pd.to_numeric(df['Quantity Ordered'])\n",
    "# Convert 'Price Each' to float\n",
    "df['Price Each'] = pd.to_numeric(df['Price Each'])\n",
    "\n",
    "\n",
    "# Add 'Sales' column\n",
    "df['Sales'] = df['Quantity Ordered']*df['Price Each']"
   ]
  },
  {
   "cell_type": "code",
   "execution_count": 8,
   "metadata": {},
   "outputs": [
    {
     "data": {
      "image/png": "[encoded data removed]",
      "text/plain": [
       "<Figure size 432x288 with 1 Axes>"
      ]
     },
     "metadata": {
      "needs_background": "light"
     },
     "output_type": "display_data"
    }
   ],
   "source": [
    "results = df.groupby('Month').sum()\n",
    "months = range(1,13)\n",
    "\n",
    "plt.bar(months, results['Sales'])\n",
    "plt.xticks(months)\n",
    "plt.ylabel('Sales in USD ($)')\n",
    "plt.xlabel('Month Number')\n",
    "\n",
    "plt.show()"
   ]
  },
  {
   "cell_type": "markdown",
   "metadata": {},
   "source": [
    "### Results\n",
    "\n",
    "This shows that the highest amount of sales is in December, and the lowest amount of sales is in January."
   ]
  },
  {
   "cell_type": "markdown",
   "metadata": {},
   "source": [
    " <br />"
   ]
  },
  {
   "cell_type": "markdown",
   "metadata": {},
   "source": [
    "## Question 2: What city had the highest number of sales?"
   ]
  },
  {
   "cell_type": "markdown",
   "metadata": {},
   "source": [
    "My first approach was to add a 'Zip Code' column from the address."
   ]
  },
  {
   "cell_type": "code",
   "execution_count": 9,
   "metadata": {},
   "outputs": [],
   "source": [
    "# Add 'Zip Code' column to identify cities\n",
    "# df['Zip Code'] = df['Purchase Address'].str[-5:]"
   ]
  },
  {
   "cell_type": "code",
   "execution_count": 10,
   "metadata": {},
   "outputs": [],
   "source": [
    "# Groupby to show the sales of each zip code\n",
    "# df.groupby('Zip Code').sum()"
   ]
  },
  {
   "cell_type": "code",
   "execution_count": 11,
   "metadata": {
    "scrolled": true
   },
   "outputs": [],
   "source": [
    "# Groupby to show the sales in ascending order\n",
    "# df.groupby('Zip Code').sum().sort_values(by='Sales')\n"
   ]
  },
  {
   "cell_type": "markdown",
   "metadata": {},
   "source": [
    "This shows that 94016 had the highest sales. <br />\n",
    "\n",
    "However, I also thought about splitting the 'Purchase Address' column by ', ' to get the city."
   ]
  },
  {
   "cell_type": "code",
   "execution_count": 12,
   "metadata": {},
   "outputs": [],
   "source": [
    "# cities = []\n",
    "\n",
    "# for i in df['Purchase Address'].str.split(', '):\n",
    "#     cities.append(i[1])\n",
    "    \n",
    "# df['City'] = cities"
   ]
  },
  {
   "cell_type": "code",
   "execution_count": 13,
   "metadata": {},
   "outputs": [],
   "source": [
    "# # Groupby to show the sales of each zip code\n",
    "# df.groupby('City').sum()\n",
    "\n",
    "# # Groupby to show the sales in ascending order\n",
    "# df.groupby('City').sum().sort_values(by='Sales')"
   ]
  },
  {
   "cell_type": "markdown",
   "metadata": {},
   "source": [
    "I got a different answer when I used the split() method than when I added the zip code. <br />\n",
    "##### The reason why I got a different answer was because the dataset had both 'Portland, Maine' and 'Portland, Oregon' <br />\n",
    "\n",
    "Galli used the apply() method, so I will follow his to see what answer he comes up with."
   ]
  },
  {
   "cell_type": "code",
   "execution_count": 14,
   "metadata": {},
   "outputs": [],
   "source": [
    "# Using .apply()\n",
    "# df['City*'] = df['Purchase Address'].apply(lambda x: x.split(', ')[1])"
   ]
  },
  {
   "cell_type": "markdown",
   "metadata": {},
   "source": [
    "We could not just get the city name because there was an issue of a duplicate of city names in the dataset."
   ]
  },
  {
   "cell_type": "code",
   "execution_count": 15,
   "metadata": {},
   "outputs": [
    {
     "name": "stderr",
     "output_type": "stream",
     "text": [
      "/Users/johngonzalez/opt/anaconda3/lib/python3.7/site-packages/ipykernel_launcher.py:7: SettingWithCopyWarning: \n",
      "A value is trying to be set on a copy of a slice from a DataFrame.\n",
      "Try using .loc[row_indexer,col_indexer] = value instead\n",
      "\n",
      "See the caveats in the documentation: http://pandas.pydata.org/pandas-docs/stable/user_guide/indexing.html#returning-a-view-versus-a-copy\n",
      "  import sys\n"
     ]
    }
   ],
   "source": [
    "# My approach\n",
    "def get_city(address):\n",
    "    city = address.split(', ')[1]\n",
    "    state = address.split(', ')[2]\n",
    "    return city+', '+state[:2]\n",
    "\n",
    "df['City'] = df['Purchase Address'].apply(lambda x: get_city(x))"
   ]
  },
  {
   "cell_type": "code",
   "execution_count": 16,
   "metadata": {},
   "outputs": [],
   "source": [
    "# # Galli's approach\n",
    "# def get_city(address):\n",
    "#     return address.split(',')[1]\n",
    "\n",
    "# def get_state(address):\n",
    "#     return address.split(',')[2].split(' ')[1]\n",
    "\n",
    "# df['City'] = df['Purchase Address'].apply(lamba x: get city(x)+''+get_state(x))\n",
    "\n",
    "# # Using 'f strings'\n",
    "# df['City'] = df['Purchase Address'].apply(lambda x: f\"{get_city(x)}, {get_state(x)}\")"
   ]
  },
  {
   "cell_type": "code",
   "execution_count": 17,
   "metadata": {},
   "outputs": [
    {
     "data": {
      "text/html": [
       "<div>\n",
       "<style scoped>\n",
       "    .dataframe tbody tr th:only-of-type {\n",
       "        vertical-align: middle;\n",
       "    }\n",
       "\n",
       "    .dataframe tbody tr th {\n",
       "        vertical-align: top;\n",
       "    }\n",
       "\n",
       "    .dataframe thead th {\n",
       "        text-align: right;\n",
       "    }\n",
       "</style>\n",
       "<table border=\"1\" class=\"dataframe\">\n",
       "  <thead>\n",
       "    <tr style=\"text-align: right;\">\n",
       "      <th></th>\n",
       "      <th>Quantity Ordered</th>\n",
       "      <th>Price Each</th>\n",
       "      <th>Month</th>\n",
       "      <th>Sales</th>\n",
       "    </tr>\n",
       "    <tr>\n",
       "      <th>City</th>\n",
       "      <th></th>\n",
       "      <th></th>\n",
       "      <th></th>\n",
       "      <th></th>\n",
       "    </tr>\n",
       "  </thead>\n",
       "  <tbody>\n",
       "    <tr>\n",
       "      <td>Atlanta, GA</td>\n",
       "      <td>16602</td>\n",
       "      <td>2.779908e+06</td>\n",
       "      <td>104794</td>\n",
       "      <td>2.795499e+06</td>\n",
       "    </tr>\n",
       "    <tr>\n",
       "      <td>Austin, TX</td>\n",
       "      <td>11153</td>\n",
       "      <td>1.809874e+06</td>\n",
       "      <td>69829</td>\n",
       "      <td>1.819582e+06</td>\n",
       "    </tr>\n",
       "    <tr>\n",
       "      <td>Boston, MA</td>\n",
       "      <td>22528</td>\n",
       "      <td>3.637410e+06</td>\n",
       "      <td>141112</td>\n",
       "      <td>3.661642e+06</td>\n",
       "    </tr>\n",
       "    <tr>\n",
       "      <td>Dallas, TX</td>\n",
       "      <td>16730</td>\n",
       "      <td>2.752628e+06</td>\n",
       "      <td>104620</td>\n",
       "      <td>2.767975e+06</td>\n",
       "    </tr>\n",
       "    <tr>\n",
       "      <td>Los Angeles, CA</td>\n",
       "      <td>33289</td>\n",
       "      <td>5.421435e+06</td>\n",
       "      <td>208325</td>\n",
       "      <td>5.452571e+06</td>\n",
       "    </tr>\n",
       "    <tr>\n",
       "      <td>New York City, NY</td>\n",
       "      <td>27932</td>\n",
       "      <td>4.635371e+06</td>\n",
       "      <td>175741</td>\n",
       "      <td>4.664317e+06</td>\n",
       "    </tr>\n",
       "    <tr>\n",
       "      <td>Portland, ME</td>\n",
       "      <td>2750</td>\n",
       "      <td>4.471893e+05</td>\n",
       "      <td>17144</td>\n",
       "      <td>4.497583e+05</td>\n",
       "    </tr>\n",
       "    <tr>\n",
       "      <td>Portland, OR</td>\n",
       "      <td>11303</td>\n",
       "      <td>1.860558e+06</td>\n",
       "      <td>70621</td>\n",
       "      <td>1.870732e+06</td>\n",
       "    </tr>\n",
       "    <tr>\n",
       "      <td>San Francisco, CA</td>\n",
       "      <td>50239</td>\n",
       "      <td>8.211462e+06</td>\n",
       "      <td>315520</td>\n",
       "      <td>8.262204e+06</td>\n",
       "    </tr>\n",
       "    <tr>\n",
       "      <td>Seattle, WA</td>\n",
       "      <td>16553</td>\n",
       "      <td>2.733296e+06</td>\n",
       "      <td>104941</td>\n",
       "      <td>2.747755e+06</td>\n",
       "    </tr>\n",
       "  </tbody>\n",
       "</table>\n",
       "</div>"
      ],
      "text/plain": [
       "                   Quantity Ordered    Price Each   Month         Sales\n",
       "City                                                                   \n",
       "Atlanta, GA                   16602  2.779908e+06  104794  2.795499e+06\n",
       "Austin, TX                    11153  1.809874e+06   69829  1.819582e+06\n",
       "Boston, MA                    22528  3.637410e+06  141112  3.661642e+06\n",
       "Dallas, TX                    16730  2.752628e+06  104620  2.767975e+06\n",
       "Los Angeles, CA               33289  5.421435e+06  208325  5.452571e+06\n",
       "New York City, NY             27932  4.635371e+06  175741  4.664317e+06\n",
       "Portland, ME                   2750  4.471893e+05   17144  4.497583e+05\n",
       "Portland, OR                  11303  1.860558e+06   70621  1.870732e+06\n",
       "San Francisco, CA             50239  8.211462e+06  315520  8.262204e+06\n",
       "Seattle, WA                   16553  2.733296e+06  104941  2.747755e+06"
      ]
     },
     "execution_count": 17,
     "metadata": {},
     "output_type": "execute_result"
    }
   ],
   "source": [
    "# sales = df.groupby('City').sum().sort_values(by='Sales')\n",
    "sales = df.groupby('City').sum()\n",
    "\n",
    "sales"
   ]
  },
  {
   "cell_type": "code",
   "execution_count": 18,
   "metadata": {},
   "outputs": [
    {
     "data": {
      "image/png": "[encoded data removed]",
      "text/plain": [
       "<Figure size 432x288 with 1 Axes>"
      ]
     },
     "metadata": {
      "needs_background": "light"
     },
     "output_type": "display_data"
    }
   ],
   "source": [
    "cities = sales.index.to_list()\n",
    "\n",
    "# plt.figure(figsize=(20, 10))\n",
    "\n",
    "plt.bar(cities, sales['Sales'])\n",
    "plt.xticks(cities, rotation=55, ha='right')\n",
    "plt.ylabel('Sales in USD ($)')\n",
    "plt.xlabel('City')\n",
    "\n",
    "plt.show()"
   ]
  },
  {
   "cell_type": "markdown",
   "metadata": {},
   "source": [
    "### Results\n",
    "\n",
    "This shows that San Fransisco, CA has the highest number of sales, and Portland, ME has the lowest number of sales."
   ]
  },
  {
   "cell_type": "markdown",
   "metadata": {},
   "source": [
    "<br /> "
   ]
  },
  {
   "cell_type": "markdown",
   "metadata": {},
   "source": [
    "## Question 3: What time should we display advertisements to maximize the likelihood of a customer buying a product?"
   ]
  },
  {
   "cell_type": "markdown",
   "metadata": {},
   "source": [
    "In order to answer this, we could look at the 'Order Date' column and see how we can aggregate the data and show it over a 24-hour period."
   ]
  },
  {
   "cell_type": "code",
   "execution_count": 19,
   "metadata": {},
   "outputs": [
    {
     "name": "stderr",
     "output_type": "stream",
     "text": [
      "/Users/johngonzalez/opt/anaconda3/lib/python3.7/site-packages/ipykernel_launcher.py:2: SettingWithCopyWarning: \n",
      "A value is trying to be set on a copy of a slice from a DataFrame.\n",
      "Try using .loc[row_indexer,col_indexer] = value instead\n",
      "\n",
      "See the caveats in the documentation: http://pandas.pydata.org/pandas-docs/stable/user_guide/indexing.html#returning-a-view-versus-a-copy\n",
      "  \n"
     ]
    }
   ],
   "source": [
    "# Convert 'Order Date' column to a datetime object\n",
    "df['Order Date'] = pd.to_datetime(df['Order Date'])"
   ]
  },
  {
   "cell_type": "code",
   "execution_count": 20,
   "metadata": {},
   "outputs": [
    {
     "name": "stderr",
     "output_type": "stream",
     "text": [
      "/Users/johngonzalez/opt/anaconda3/lib/python3.7/site-packages/ipykernel_launcher.py:2: SettingWithCopyWarning: \n",
      "A value is trying to be set on a copy of a slice from a DataFrame.\n",
      "Try using .loc[row_indexer,col_indexer] = value instead\n",
      "\n",
      "See the caveats in the documentation: http://pandas.pydata.org/pandas-docs/stable/user_guide/indexing.html#returning-a-view-versus-a-copy\n",
      "  \n",
      "/Users/johngonzalez/opt/anaconda3/lib/python3.7/site-packages/ipykernel_launcher.py:5: SettingWithCopyWarning: \n",
      "A value is trying to be set on a copy of a slice from a DataFrame.\n",
      "Try using .loc[row_indexer,col_indexer] = value instead\n",
      "\n",
      "See the caveats in the documentation: http://pandas.pydata.org/pandas-docs/stable/user_guide/indexing.html#returning-a-view-versus-a-copy\n",
      "  \"\"\"\n"
     ]
    }
   ],
   "source": [
    "# Add an 'Hour' column\n",
    "df['Hour'] = df['Order Date'].dt.hour\n",
    "\n",
    "# Add a 'Minute' column\n",
    "df['Minute'] = df['Order Date'].dt.minute"
   ]
  },
  {
   "cell_type": "code",
   "execution_count": 21,
   "metadata": {},
   "outputs": [
    {
     "data": {
      "image/png": "[encoded data removed]",
      "text/plain": [
       "<Figure size 432x288 with 1 Axes>"
      ]
     },
     "metadata": {
      "needs_background": "light"
     },
     "output_type": "display_data"
    }
   ],
   "source": [
    "hours = [hour for hour, df in df.groupby('Hour')]\n",
    "\n",
    "plt.plot(hours, df.groupby('Hour').count())\n",
    "\n",
    "plt.xticks(hours)\n",
    "plt.xlabel('Hour')\n",
    "plt.ylabel('Number of Orders')\n",
    "plt.grid()\n",
    "\n",
    "\n",
    "plt.show()"
   ]
  },
  {
   "cell_type": "markdown",
   "metadata": {},
   "source": [
    "### Results\n",
    "\n",
    "This shows that the peaks of sales is between 10am-12pm and 6pm-8pm. <br />\n",
    "\n",
    "Another thing I could do is break it up by the specific city to show the best times for those cities."
   ]
  },
  {
   "cell_type": "markdown",
   "metadata": {},
   "source": [
    " <br />"
   ]
  },
  {
   "cell_type": "markdown",
   "metadata": {},
   "source": [
    "## Question 4: What products are most often sold together?"
   ]
  },
  {
   "cell_type": "code",
   "execution_count": 22,
   "metadata": {},
   "outputs": [
    {
     "data": {
      "text/html": [
       "<div>\n",
       "<style scoped>\n",
       "    .dataframe tbody tr th:only-of-type {\n",
       "        vertical-align: middle;\n",
       "    }\n",
       "\n",
       "    .dataframe tbody tr th {\n",
       "        vertical-align: top;\n",
       "    }\n",
       "\n",
       "    .dataframe thead th {\n",
       "        text-align: right;\n",
       "    }\n",
       "</style>\n",
       "<table border=\"1\" class=\"dataframe\">\n",
       "  <thead>\n",
       "    <tr style=\"text-align: right;\">\n",
       "      <th></th>\n",
       "      <th>Order ID</th>\n",
       "      <th>Product</th>\n",
       "      <th>Quantity Ordered</th>\n",
       "      <th>Price Each</th>\n",
       "      <th>Order Date</th>\n",
       "      <th>Purchase Address</th>\n",
       "      <th>Month</th>\n",
       "      <th>Sales</th>\n",
       "      <th>City</th>\n",
       "      <th>Hour</th>\n",
       "      <th>Minute</th>\n",
       "    </tr>\n",
       "  </thead>\n",
       "  <tbody>\n",
       "    <tr>\n",
       "      <td>0</td>\n",
       "      <td>295665</td>\n",
       "      <td>Macbook Pro Laptop</td>\n",
       "      <td>1</td>\n",
       "      <td>1700.00</td>\n",
       "      <td>2019-12-30 00:01:00</td>\n",
       "      <td>136 Church St, New York City, NY 10001</td>\n",
       "      <td>12</td>\n",
       "      <td>1700.00</td>\n",
       "      <td>New York City, NY</td>\n",
       "      <td>0</td>\n",
       "      <td>1</td>\n",
       "    </tr>\n",
       "    <tr>\n",
       "      <td>1</td>\n",
       "      <td>295666</td>\n",
       "      <td>LG Washing Machine</td>\n",
       "      <td>1</td>\n",
       "      <td>600.00</td>\n",
       "      <td>2019-12-29 07:03:00</td>\n",
       "      <td>562 2nd St, New York City, NY 10001</td>\n",
       "      <td>12</td>\n",
       "      <td>600.00</td>\n",
       "      <td>New York City, NY</td>\n",
       "      <td>7</td>\n",
       "      <td>3</td>\n",
       "    </tr>\n",
       "    <tr>\n",
       "      <td>2</td>\n",
       "      <td>295667</td>\n",
       "      <td>USB-C Charging Cable</td>\n",
       "      <td>1</td>\n",
       "      <td>11.95</td>\n",
       "      <td>2019-12-12 18:21:00</td>\n",
       "      <td>277 Main St, New York City, NY 10001</td>\n",
       "      <td>12</td>\n",
       "      <td>11.95</td>\n",
       "      <td>New York City, NY</td>\n",
       "      <td>18</td>\n",
       "      <td>21</td>\n",
       "    </tr>\n",
       "    <tr>\n",
       "      <td>3</td>\n",
       "      <td>295668</td>\n",
       "      <td>27in FHD Monitor</td>\n",
       "      <td>1</td>\n",
       "      <td>149.99</td>\n",
       "      <td>2019-12-22 15:13:00</td>\n",
       "      <td>410 6th St, San Francisco, CA 94016</td>\n",
       "      <td>12</td>\n",
       "      <td>149.99</td>\n",
       "      <td>San Francisco, CA</td>\n",
       "      <td>15</td>\n",
       "      <td>13</td>\n",
       "    </tr>\n",
       "    <tr>\n",
       "      <td>4</td>\n",
       "      <td>295669</td>\n",
       "      <td>USB-C Charging Cable</td>\n",
       "      <td>1</td>\n",
       "      <td>11.95</td>\n",
       "      <td>2019-12-18 12:38:00</td>\n",
       "      <td>43 Hill St, Atlanta, GA 30301</td>\n",
       "      <td>12</td>\n",
       "      <td>11.95</td>\n",
       "      <td>Atlanta, GA</td>\n",
       "      <td>12</td>\n",
       "      <td>38</td>\n",
       "    </tr>\n",
       "  </tbody>\n",
       "</table>\n",
       "</div>"
      ],
      "text/plain": [
       "  Order ID               Product  Quantity Ordered  Price Each  \\\n",
       "0   295665    Macbook Pro Laptop                 1     1700.00   \n",
       "1   295666    LG Washing Machine                 1      600.00   \n",
       "2   295667  USB-C Charging Cable                 1       11.95   \n",
       "3   295668      27in FHD Monitor                 1      149.99   \n",
       "4   295669  USB-C Charging Cable                 1       11.95   \n",
       "\n",
       "           Order Date                        Purchase Address  Month    Sales  \\\n",
       "0 2019-12-30 00:01:00  136 Church St, New York City, NY 10001     12  1700.00   \n",
       "1 2019-12-29 07:03:00     562 2nd St, New York City, NY 10001     12   600.00   \n",
       "2 2019-12-12 18:21:00    277 Main St, New York City, NY 10001     12    11.95   \n",
       "3 2019-12-22 15:13:00     410 6th St, San Francisco, CA 94016     12   149.99   \n",
       "4 2019-12-18 12:38:00           43 Hill St, Atlanta, GA 30301     12    11.95   \n",
       "\n",
       "                City  Hour  Minute  \n",
       "0  New York City, NY     0       1  \n",
       "1  New York City, NY     7       3  \n",
       "2  New York City, NY    18      21  \n",
       "3  San Francisco, CA    15      13  \n",
       "4        Atlanta, GA    12      38  "
      ]
     },
     "execution_count": 22,
     "metadata": {},
     "output_type": "execute_result"
    }
   ],
   "source": [
    "df.head()"
   ]
  },
  {
   "cell_type": "code",
   "execution_count": 23,
   "metadata": {},
   "outputs": [
    {
     "data": {
      "text/html": [
       "<div>\n",
       "<style scoped>\n",
       "    .dataframe tbody tr th:only-of-type {\n",
       "        vertical-align: middle;\n",
       "    }\n",
       "\n",
       "    .dataframe tbody tr th {\n",
       "        vertical-align: top;\n",
       "    }\n",
       "\n",
       "    .dataframe thead th {\n",
       "        text-align: right;\n",
       "    }\n",
       "</style>\n",
       "<table border=\"1\" class=\"dataframe\">\n",
       "  <thead>\n",
       "    <tr style=\"text-align: right;\">\n",
       "      <th></th>\n",
       "      <th>Order ID</th>\n",
       "      <th>Product</th>\n",
       "      <th>Quantity Ordered</th>\n",
       "      <th>Price Each</th>\n",
       "      <th>Order Date</th>\n",
       "      <th>Purchase Address</th>\n",
       "      <th>Month</th>\n",
       "      <th>Sales</th>\n",
       "      <th>City</th>\n",
       "      <th>Hour</th>\n",
       "      <th>Minute</th>\n",
       "    </tr>\n",
       "  </thead>\n",
       "  <tbody>\n",
       "    <tr>\n",
       "      <td>16</td>\n",
       "      <td>295681</td>\n",
       "      <td>Google Phone</td>\n",
       "      <td>1</td>\n",
       "      <td>600.00</td>\n",
       "      <td>2019-12-25 12:37:00</td>\n",
       "      <td>79 Elm St, Boston, MA 02215</td>\n",
       "      <td>12</td>\n",
       "      <td>600.00</td>\n",
       "      <td>Boston, MA</td>\n",
       "      <td>12</td>\n",
       "      <td>37</td>\n",
       "    </tr>\n",
       "    <tr>\n",
       "      <td>17</td>\n",
       "      <td>295681</td>\n",
       "      <td>USB-C Charging Cable</td>\n",
       "      <td>1</td>\n",
       "      <td>11.95</td>\n",
       "      <td>2019-12-25 12:37:00</td>\n",
       "      <td>79 Elm St, Boston, MA 02215</td>\n",
       "      <td>12</td>\n",
       "      <td>11.95</td>\n",
       "      <td>Boston, MA</td>\n",
       "      <td>12</td>\n",
       "      <td>37</td>\n",
       "    </tr>\n",
       "    <tr>\n",
       "      <td>18</td>\n",
       "      <td>295681</td>\n",
       "      <td>Bose SoundSport Headphones</td>\n",
       "      <td>1</td>\n",
       "      <td>99.99</td>\n",
       "      <td>2019-12-25 12:37:00</td>\n",
       "      <td>79 Elm St, Boston, MA 02215</td>\n",
       "      <td>12</td>\n",
       "      <td>99.99</td>\n",
       "      <td>Boston, MA</td>\n",
       "      <td>12</td>\n",
       "      <td>37</td>\n",
       "    </tr>\n",
       "    <tr>\n",
       "      <td>19</td>\n",
       "      <td>295681</td>\n",
       "      <td>Wired Headphones</td>\n",
       "      <td>1</td>\n",
       "      <td>11.99</td>\n",
       "      <td>2019-12-25 12:37:00</td>\n",
       "      <td>79 Elm St, Boston, MA 02215</td>\n",
       "      <td>12</td>\n",
       "      <td>11.99</td>\n",
       "      <td>Boston, MA</td>\n",
       "      <td>12</td>\n",
       "      <td>37</td>\n",
       "    </tr>\n",
       "    <tr>\n",
       "      <td>36</td>\n",
       "      <td>295698</td>\n",
       "      <td>Vareebadd Phone</td>\n",
       "      <td>1</td>\n",
       "      <td>400.00</td>\n",
       "      <td>2019-12-13 14:32:00</td>\n",
       "      <td>175 1st St, New York City, NY 10001</td>\n",
       "      <td>12</td>\n",
       "      <td>400.00</td>\n",
       "      <td>New York City, NY</td>\n",
       "      <td>14</td>\n",
       "      <td>32</td>\n",
       "    </tr>\n",
       "  </tbody>\n",
       "</table>\n",
       "</div>"
      ],
      "text/plain": [
       "   Order ID                     Product  Quantity Ordered  Price Each  \\\n",
       "16   295681                Google Phone                 1      600.00   \n",
       "17   295681        USB-C Charging Cable                 1       11.95   \n",
       "18   295681  Bose SoundSport Headphones                 1       99.99   \n",
       "19   295681            Wired Headphones                 1       11.99   \n",
       "36   295698             Vareebadd Phone                 1      400.00   \n",
       "\n",
       "            Order Date                     Purchase Address  Month   Sales  \\\n",
       "16 2019-12-25 12:37:00          79 Elm St, Boston, MA 02215     12  600.00   \n",
       "17 2019-12-25 12:37:00          79 Elm St, Boston, MA 02215     12   11.95   \n",
       "18 2019-12-25 12:37:00          79 Elm St, Boston, MA 02215     12   99.99   \n",
       "19 2019-12-25 12:37:00          79 Elm St, Boston, MA 02215     12   11.99   \n",
       "36 2019-12-13 14:32:00  175 1st St, New York City, NY 10001     12  400.00   \n",
       "\n",
       "                 City  Hour  Minute  \n",
       "16         Boston, MA    12      37  \n",
       "17         Boston, MA    12      37  \n",
       "18         Boston, MA    12      37  \n",
       "19         Boston, MA    12      37  \n",
       "36  New York City, NY    14      32  "
      ]
     },
     "execution_count": 23,
     "metadata": {},
     "output_type": "execute_result"
    }
   ],
   "source": [
    "# Find duplicates of the 'Order ID'\n",
    "order_df = df[df['Order ID'].duplicated(keep=False)]\n",
    "\n",
    "order_df.head()"
   ]
  },
  {
   "cell_type": "code",
   "execution_count": 24,
   "metadata": {},
   "outputs": [
    {
     "name": "stderr",
     "output_type": "stream",
     "text": [
      "/Users/johngonzalez/opt/anaconda3/lib/python3.7/site-packages/ipykernel_launcher.py:2: SettingWithCopyWarning: \n",
      "A value is trying to be set on a copy of a slice from a DataFrame.\n",
      "Try using .loc[row_indexer,col_indexer] = value instead\n",
      "\n",
      "See the caveats in the documentation: http://pandas.pydata.org/pandas-docs/stable/user_guide/indexing.html#returning-a-view-versus-a-copy\n",
      "  \n"
     ]
    }
   ],
   "source": [
    "# Create a new 'Grouped' column that has all the items ordered with the same Order ID\n",
    "order_df['Grouped'] = order_df.groupby('Order ID')['Product'].transform(lambda x: ', '.join(x))\n",
    "\n",
    "# Keep only the 'Order ID' and 'Grouped' column and drop duplicate rows\n",
    "order_df = order_df[['Order ID', 'Grouped']].drop_duplicates()"
   ]
  },
  {
   "cell_type": "code",
   "execution_count": 25,
   "metadata": {},
   "outputs": [
    {
     "data": {
      "text/html": [
       "<div>\n",
       "<style scoped>\n",
       "    .dataframe tbody tr th:only-of-type {\n",
       "        vertical-align: middle;\n",
       "    }\n",
       "\n",
       "    .dataframe tbody tr th {\n",
       "        vertical-align: top;\n",
       "    }\n",
       "\n",
       "    .dataframe thead th {\n",
       "        text-align: right;\n",
       "    }\n",
       "</style>\n",
       "<table border=\"1\" class=\"dataframe\">\n",
       "  <thead>\n",
       "    <tr style=\"text-align: right;\">\n",
       "      <th></th>\n",
       "      <th>Order ID</th>\n",
       "      <th>Grouped</th>\n",
       "    </tr>\n",
       "  </thead>\n",
       "  <tbody>\n",
       "    <tr>\n",
       "      <td>16</td>\n",
       "      <td>295681</td>\n",
       "      <td>Google Phone, USB-C Charging Cable, Bose Sound...</td>\n",
       "    </tr>\n",
       "    <tr>\n",
       "      <td>36</td>\n",
       "      <td>295698</td>\n",
       "      <td>Vareebadd Phone, USB-C Charging Cable</td>\n",
       "    </tr>\n",
       "    <tr>\n",
       "      <td>42</td>\n",
       "      <td>295703</td>\n",
       "      <td>AA Batteries (4-pack), Bose SoundSport Headphones</td>\n",
       "    </tr>\n",
       "    <tr>\n",
       "      <td>66</td>\n",
       "      <td>295726</td>\n",
       "      <td>iPhone, Lightning Charging Cable</td>\n",
       "    </tr>\n",
       "    <tr>\n",
       "      <td>76</td>\n",
       "      <td>295735</td>\n",
       "      <td>iPhone, Apple Airpods Headphones, Wired Headph...</td>\n",
       "    </tr>\n",
       "  </tbody>\n",
       "</table>\n",
       "</div>"
      ],
      "text/plain": [
       "   Order ID                                            Grouped\n",
       "16   295681  Google Phone, USB-C Charging Cable, Bose Sound...\n",
       "36   295698              Vareebadd Phone, USB-C Charging Cable\n",
       "42   295703  AA Batteries (4-pack), Bose SoundSport Headphones\n",
       "66   295726                   iPhone, Lightning Charging Cable\n",
       "76   295735  iPhone, Apple Airpods Headphones, Wired Headph..."
      ]
     },
     "execution_count": 25,
     "metadata": {},
     "output_type": "execute_result"
    }
   ],
   "source": [
    "order_df.head()"
   ]
  },
  {
   "cell_type": "code",
   "execution_count": 26,
   "metadata": {},
   "outputs": [
    {
     "name": "stdout",
     "output_type": "stream",
     "text": [
      "('iPhone', 'Lightning Charging Cable') 1005\n",
      "('Google Phone', 'USB-C Charging Cable') 987\n",
      "('iPhone', 'Wired Headphones') 447\n",
      "('Google Phone', 'Wired Headphones') 414\n",
      "('Vareebadd Phone', 'USB-C Charging Cable') 361\n",
      "('iPhone', 'Apple Airpods Headphones') 360\n",
      "('Google Phone', 'Bose SoundSport Headphones') 220\n",
      "('USB-C Charging Cable', 'Wired Headphones') 160\n",
      "('Vareebadd Phone', 'Wired Headphones') 143\n",
      "('Lightning Charging Cable', 'Wired Headphones') 92\n",
      "('Lightning Charging Cable', 'Apple Airpods Headphones') 81\n",
      "('Vareebadd Phone', 'Bose SoundSport Headphones') 80\n",
      "('USB-C Charging Cable', 'Bose SoundSport Headphones') 77\n",
      "('Apple Airpods Headphones', 'Wired Headphones') 69\n",
      "('Lightning Charging Cable', 'USB-C Charging Cable') 58\n"
     ]
    }
   ],
   "source": [
    "count = Counter()\n",
    "\n",
    "# Find the number of instances where two items are in the same list\n",
    "for row in order_df['Grouped']:\n",
    "    row_list = row.split(', ')\n",
    "    count.update(Counter(combinations(row_list, 2)))\n",
    "\n",
    "# count.most_common(10)\n",
    "\n",
    "for key, value in count.most_common(15):\n",
    "    print(key, value)"
   ]
  },
  {
   "cell_type": "markdown",
   "metadata": {},
   "source": [
    "### Results\n",
    "\n",
    "The two items sold together the most are the iPhone and Lighting Charging Cable. The second two most sold items are the Google Phoen and a USB-C Charging Cable."
   ]
  },
  {
   "cell_type": "markdown",
   "metadata": {},
   "source": [
    " <br />"
   ]
  },
  {
   "cell_type": "markdown",
   "metadata": {},
   "source": [
    "## Question 5: What product sold the most? Why do you think it sold the most?"
   ]
  },
  {
   "cell_type": "code",
   "execution_count": 27,
   "metadata": {},
   "outputs": [
    {
     "data": {
      "text/html": [
       "<div>\n",
       "<style scoped>\n",
       "    .dataframe tbody tr th:only-of-type {\n",
       "        vertical-align: middle;\n",
       "    }\n",
       "\n",
       "    .dataframe tbody tr th {\n",
       "        vertical-align: top;\n",
       "    }\n",
       "\n",
       "    .dataframe thead th {\n",
       "        text-align: right;\n",
       "    }\n",
       "</style>\n",
       "<table border=\"1\" class=\"dataframe\">\n",
       "  <thead>\n",
       "    <tr style=\"text-align: right;\">\n",
       "      <th></th>\n",
       "      <th>Order ID</th>\n",
       "      <th>Product</th>\n",
       "      <th>Quantity Ordered</th>\n",
       "      <th>Price Each</th>\n",
       "      <th>Order Date</th>\n",
       "      <th>Purchase Address</th>\n",
       "      <th>Month</th>\n",
       "      <th>Sales</th>\n",
       "      <th>City</th>\n",
       "      <th>Hour</th>\n",
       "      <th>Minute</th>\n",
       "    </tr>\n",
       "  </thead>\n",
       "  <tbody>\n",
       "    <tr>\n",
       "      <td>0</td>\n",
       "      <td>295665</td>\n",
       "      <td>Macbook Pro Laptop</td>\n",
       "      <td>1</td>\n",
       "      <td>1700.00</td>\n",
       "      <td>2019-12-30 00:01:00</td>\n",
       "      <td>136 Church St, New York City, NY 10001</td>\n",
       "      <td>12</td>\n",
       "      <td>1700.00</td>\n",
       "      <td>New York City, NY</td>\n",
       "      <td>0</td>\n",
       "      <td>1</td>\n",
       "    </tr>\n",
       "    <tr>\n",
       "      <td>1</td>\n",
       "      <td>295666</td>\n",
       "      <td>LG Washing Machine</td>\n",
       "      <td>1</td>\n",
       "      <td>600.00</td>\n",
       "      <td>2019-12-29 07:03:00</td>\n",
       "      <td>562 2nd St, New York City, NY 10001</td>\n",
       "      <td>12</td>\n",
       "      <td>600.00</td>\n",
       "      <td>New York City, NY</td>\n",
       "      <td>7</td>\n",
       "      <td>3</td>\n",
       "    </tr>\n",
       "    <tr>\n",
       "      <td>2</td>\n",
       "      <td>295667</td>\n",
       "      <td>USB-C Charging Cable</td>\n",
       "      <td>1</td>\n",
       "      <td>11.95</td>\n",
       "      <td>2019-12-12 18:21:00</td>\n",
       "      <td>277 Main St, New York City, NY 10001</td>\n",
       "      <td>12</td>\n",
       "      <td>11.95</td>\n",
       "      <td>New York City, NY</td>\n",
       "      <td>18</td>\n",
       "      <td>21</td>\n",
       "    </tr>\n",
       "    <tr>\n",
       "      <td>3</td>\n",
       "      <td>295668</td>\n",
       "      <td>27in FHD Monitor</td>\n",
       "      <td>1</td>\n",
       "      <td>149.99</td>\n",
       "      <td>2019-12-22 15:13:00</td>\n",
       "      <td>410 6th St, San Francisco, CA 94016</td>\n",
       "      <td>12</td>\n",
       "      <td>149.99</td>\n",
       "      <td>San Francisco, CA</td>\n",
       "      <td>15</td>\n",
       "      <td>13</td>\n",
       "    </tr>\n",
       "    <tr>\n",
       "      <td>4</td>\n",
       "      <td>295669</td>\n",
       "      <td>USB-C Charging Cable</td>\n",
       "      <td>1</td>\n",
       "      <td>11.95</td>\n",
       "      <td>2019-12-18 12:38:00</td>\n",
       "      <td>43 Hill St, Atlanta, GA 30301</td>\n",
       "      <td>12</td>\n",
       "      <td>11.95</td>\n",
       "      <td>Atlanta, GA</td>\n",
       "      <td>12</td>\n",
       "      <td>38</td>\n",
       "    </tr>\n",
       "  </tbody>\n",
       "</table>\n",
       "</div>"
      ],
      "text/plain": [
       "  Order ID               Product  Quantity Ordered  Price Each  \\\n",
       "0   295665    Macbook Pro Laptop                 1     1700.00   \n",
       "1   295666    LG Washing Machine                 1      600.00   \n",
       "2   295667  USB-C Charging Cable                 1       11.95   \n",
       "3   295668      27in FHD Monitor                 1      149.99   \n",
       "4   295669  USB-C Charging Cable                 1       11.95   \n",
       "\n",
       "           Order Date                        Purchase Address  Month    Sales  \\\n",
       "0 2019-12-30 00:01:00  136 Church St, New York City, NY 10001     12  1700.00   \n",
       "1 2019-12-29 07:03:00     562 2nd St, New York City, NY 10001     12   600.00   \n",
       "2 2019-12-12 18:21:00    277 Main St, New York City, NY 10001     12    11.95   \n",
       "3 2019-12-22 15:13:00     410 6th St, San Francisco, CA 94016     12   149.99   \n",
       "4 2019-12-18 12:38:00           43 Hill St, Atlanta, GA 30301     12    11.95   \n",
       "\n",
       "                City  Hour  Minute  \n",
       "0  New York City, NY     0       1  \n",
       "1  New York City, NY     7       3  \n",
       "2  New York City, NY    18      21  \n",
       "3  San Francisco, CA    15      13  \n",
       "4        Atlanta, GA    12      38  "
      ]
     },
     "execution_count": 27,
     "metadata": {},
     "output_type": "execute_result"
    }
   ],
   "source": [
    "df.head()"
   ]
  },
  {
   "cell_type": "markdown",
   "metadata": {},
   "source": [
    "My method"
   ]
  },
  {
   "cell_type": "code",
   "execution_count": 28,
   "metadata": {},
   "outputs": [
    {
     "data": {
      "text/html": [
       "<div>\n",
       "<style scoped>\n",
       "    .dataframe tbody tr th:only-of-type {\n",
       "        vertical-align: middle;\n",
       "    }\n",
       "\n",
       "    .dataframe tbody tr th {\n",
       "        vertical-align: top;\n",
       "    }\n",
       "\n",
       "    .dataframe thead th {\n",
       "        text-align: right;\n",
       "    }\n",
       "</style>\n",
       "<table border=\"1\" class=\"dataframe\">\n",
       "  <thead>\n",
       "    <tr style=\"text-align: right;\">\n",
       "      <th></th>\n",
       "      <th>Quantity Ordered</th>\n",
       "      <th>Price Each</th>\n",
       "      <th>Month</th>\n",
       "      <th>Sales</th>\n",
       "      <th>Hour</th>\n",
       "      <th>Minute</th>\n",
       "    </tr>\n",
       "    <tr>\n",
       "      <th>Product</th>\n",
       "      <th></th>\n",
       "      <th></th>\n",
       "      <th></th>\n",
       "      <th></th>\n",
       "      <th></th>\n",
       "      <th></th>\n",
       "    </tr>\n",
       "  </thead>\n",
       "  <tbody>\n",
       "    <tr>\n",
       "      <td>AAA Batteries (4-pack)</td>\n",
       "      <td>31017</td>\n",
       "      <td>61716.59</td>\n",
       "      <td>146370</td>\n",
       "      <td>92740.83</td>\n",
       "      <td>297332</td>\n",
       "      <td>612113</td>\n",
       "    </tr>\n",
       "    <tr>\n",
       "      <td>AA Batteries (4-pack)</td>\n",
       "      <td>27635</td>\n",
       "      <td>79015.68</td>\n",
       "      <td>145558</td>\n",
       "      <td>106118.40</td>\n",
       "      <td>298342</td>\n",
       "      <td>609039</td>\n",
       "    </tr>\n",
       "    <tr>\n",
       "      <td>USB-C Charging Cable</td>\n",
       "      <td>23975</td>\n",
       "      <td>261740.85</td>\n",
       "      <td>154819</td>\n",
       "      <td>286501.25</td>\n",
       "      <td>314645</td>\n",
       "      <td>647586</td>\n",
       "    </tr>\n",
       "    <tr>\n",
       "      <td>Lightning Charging Cable</td>\n",
       "      <td>23217</td>\n",
       "      <td>323787.10</td>\n",
       "      <td>153092</td>\n",
       "      <td>347094.15</td>\n",
       "      <td>312529</td>\n",
       "      <td>634442</td>\n",
       "    </tr>\n",
       "    <tr>\n",
       "      <td>Wired Headphones</td>\n",
       "      <td>20557</td>\n",
       "      <td>226395.18</td>\n",
       "      <td>133397</td>\n",
       "      <td>246478.43</td>\n",
       "      <td>271720</td>\n",
       "      <td>554023</td>\n",
       "    </tr>\n",
       "    <tr>\n",
       "      <td>Apple Airpods Headphones</td>\n",
       "      <td>15661</td>\n",
       "      <td>2332350.00</td>\n",
       "      <td>109477</td>\n",
       "      <td>2349150.00</td>\n",
       "      <td>223304</td>\n",
       "      <td>455570</td>\n",
       "    </tr>\n",
       "    <tr>\n",
       "      <td>Bose SoundSport Headphones</td>\n",
       "      <td>13457</td>\n",
       "      <td>1332366.75</td>\n",
       "      <td>94113</td>\n",
       "      <td>1345565.43</td>\n",
       "      <td>192445</td>\n",
       "      <td>392603</td>\n",
       "    </tr>\n",
       "    <tr>\n",
       "      <td>27in FHD Monitor</td>\n",
       "      <td>7550</td>\n",
       "      <td>1125974.93</td>\n",
       "      <td>52558</td>\n",
       "      <td>1132424.50</td>\n",
       "      <td>107540</td>\n",
       "      <td>219948</td>\n",
       "    </tr>\n",
       "    <tr>\n",
       "      <td>iPhone</td>\n",
       "      <td>6849</td>\n",
       "      <td>4789400.00</td>\n",
       "      <td>47941</td>\n",
       "      <td>4794300.00</td>\n",
       "      <td>98657</td>\n",
       "      <td>201688</td>\n",
       "    </tr>\n",
       "    <tr>\n",
       "      <td>27in 4K Gaming Monitor</td>\n",
       "      <td>6244</td>\n",
       "      <td>2429637.70</td>\n",
       "      <td>44440</td>\n",
       "      <td>2435097.56</td>\n",
       "      <td>90916</td>\n",
       "      <td>184331</td>\n",
       "    </tr>\n",
       "    <tr>\n",
       "      <td>34in Ultrawide Monitor</td>\n",
       "      <td>6199</td>\n",
       "      <td>2348718.19</td>\n",
       "      <td>43304</td>\n",
       "      <td>2355558.01</td>\n",
       "      <td>89076</td>\n",
       "      <td>183480</td>\n",
       "    </tr>\n",
       "    <tr>\n",
       "      <td>Google Phone</td>\n",
       "      <td>5532</td>\n",
       "      <td>3315000.00</td>\n",
       "      <td>38305</td>\n",
       "      <td>3319200.00</td>\n",
       "      <td>79479</td>\n",
       "      <td>162773</td>\n",
       "    </tr>\n",
       "    <tr>\n",
       "      <td>Flatscreen TV</td>\n",
       "      <td>4819</td>\n",
       "      <td>1440000.00</td>\n",
       "      <td>34224</td>\n",
       "      <td>1445700.00</td>\n",
       "      <td>68815</td>\n",
       "      <td>142789</td>\n",
       "    </tr>\n",
       "    <tr>\n",
       "      <td>Macbook Pro Laptop</td>\n",
       "      <td>4728</td>\n",
       "      <td>8030800.00</td>\n",
       "      <td>33548</td>\n",
       "      <td>8037600.00</td>\n",
       "      <td>68261</td>\n",
       "      <td>137574</td>\n",
       "    </tr>\n",
       "    <tr>\n",
       "      <td>ThinkPad Laptop</td>\n",
       "      <td>4130</td>\n",
       "      <td>4127958.72</td>\n",
       "      <td>28950</td>\n",
       "      <td>4129958.70</td>\n",
       "      <td>59746</td>\n",
       "      <td>121508</td>\n",
       "    </tr>\n",
       "    <tr>\n",
       "      <td>20in Monitor</td>\n",
       "      <td>4129</td>\n",
       "      <td>451068.99</td>\n",
       "      <td>29336</td>\n",
       "      <td>454148.71</td>\n",
       "      <td>58764</td>\n",
       "      <td>122252</td>\n",
       "    </tr>\n",
       "    <tr>\n",
       "      <td>Vareebadd Phone</td>\n",
       "      <td>2068</td>\n",
       "      <td>826000.00</td>\n",
       "      <td>14309</td>\n",
       "      <td>827200.00</td>\n",
       "      <td>29472</td>\n",
       "      <td>61835</td>\n",
       "    </tr>\n",
       "    <tr>\n",
       "      <td>LG Washing Machine</td>\n",
       "      <td>666</td>\n",
       "      <td>399600.00</td>\n",
       "      <td>4523</td>\n",
       "      <td>399600.00</td>\n",
       "      <td>9785</td>\n",
       "      <td>19462</td>\n",
       "    </tr>\n",
       "    <tr>\n",
       "      <td>LG Dryer</td>\n",
       "      <td>646</td>\n",
       "      <td>387600.00</td>\n",
       "      <td>4383</td>\n",
       "      <td>387600.00</td>\n",
       "      <td>9326</td>\n",
       "      <td>19043</td>\n",
       "    </tr>\n",
       "  </tbody>\n",
       "</table>\n",
       "</div>"
      ],
      "text/plain": [
       "                            Quantity Ordered  Price Each   Month       Sales  \\\n",
       "Product                                                                        \n",
       "AAA Batteries (4-pack)                 31017    61716.59  146370    92740.83   \n",
       "AA Batteries (4-pack)                  27635    79015.68  145558   106118.40   \n",
       "USB-C Charging Cable                   23975   261740.85  154819   286501.25   \n",
       "Lightning Charging Cable               23217   323787.10  153092   347094.15   \n",
       "Wired Headphones                       20557   226395.18  133397   246478.43   \n",
       "Apple Airpods Headphones               15661  2332350.00  109477  2349150.00   \n",
       "Bose SoundSport Headphones             13457  1332366.75   94113  1345565.43   \n",
       "27in FHD Monitor                        7550  1125974.93   52558  1132424.50   \n",
       "iPhone                                  6849  4789400.00   47941  4794300.00   \n",
       "27in 4K Gaming Monitor                  6244  2429637.70   44440  2435097.56   \n",
       "34in Ultrawide Monitor                  6199  2348718.19   43304  2355558.01   \n",
       "Google Phone                            5532  3315000.00   38305  3319200.00   \n",
       "Flatscreen TV                           4819  1440000.00   34224  1445700.00   \n",
       "Macbook Pro Laptop                      4728  8030800.00   33548  8037600.00   \n",
       "ThinkPad Laptop                         4130  4127958.72   28950  4129958.70   \n",
       "20in Monitor                            4129   451068.99   29336   454148.71   \n",
       "Vareebadd Phone                         2068   826000.00   14309   827200.00   \n",
       "LG Washing Machine                       666   399600.00    4523   399600.00   \n",
       "LG Dryer                                 646   387600.00    4383   387600.00   \n",
       "\n",
       "                              Hour  Minute  \n",
       "Product                                     \n",
       "AAA Batteries (4-pack)      297332  612113  \n",
       "AA Batteries (4-pack)       298342  609039  \n",
       "USB-C Charging Cable        314645  647586  \n",
       "Lightning Charging Cable    312529  634442  \n",
       "Wired Headphones            271720  554023  \n",
       "Apple Airpods Headphones    223304  455570  \n",
       "Bose SoundSport Headphones  192445  392603  \n",
       "27in FHD Monitor            107540  219948  \n",
       "iPhone                       98657  201688  \n",
       "27in 4K Gaming Monitor       90916  184331  \n",
       "34in Ultrawide Monitor       89076  183480  \n",
       "Google Phone                 79479  162773  \n",
       "Flatscreen TV                68815  142789  \n",
       "Macbook Pro Laptop           68261  137574  \n",
       "ThinkPad Laptop              59746  121508  \n",
       "20in Monitor                 58764  122252  \n",
       "Vareebadd Phone              29472   61835  \n",
       "LG Washing Machine            9785   19462  \n",
       "LG Dryer                      9326   19043  "
      ]
     },
     "execution_count": 28,
     "metadata": {},
     "output_type": "execute_result"
    }
   ],
   "source": [
    "df.groupby('Product').sum().sort_values(by='Quantity Ordered', ascending=False)"
   ]
  },
  {
   "cell_type": "markdown",
   "metadata": {},
   "source": [
    "Galli's method"
   ]
  },
  {
   "cell_type": "code",
   "execution_count": 29,
   "metadata": {},
   "outputs": [
    {
     "data": {
      "image/png": "[encoded data removed]",
      "text/plain": [
       "<Figure size 432x288 with 1 Axes>"
      ]
     },
     "metadata": {
      "needs_background": "light"
     },
     "output_type": "display_data"
    }
   ],
   "source": [
    "product_group = df.groupby('Product')\n",
    "quantity_ordered = product_group.sum()['Quantity Ordered']\n",
    "\n",
    "products = [product for product, df in product_group]\n",
    "\n",
    "plt.bar(products, quantity_ordered)\n",
    "plt.xlabel('Product')\n",
    "plt.ylabel('Quantity Ordered')\n",
    "plt.xticks(products, rotation='vertical', size=10)\n",
    "\n",
    "plt.show()"
   ]
  },
  {
   "cell_type": "markdown",
   "metadata": {},
   "source": [
    "One possible reason why AAA Batteries were sold much more than LG dryer is because of the price. AAA Batteries are much cheaper than an LG Dryer. <br />\n",
    "\n",
    "In order to prove this hypothesis, we can plot the prices of each product and see how it correlates with the quantity ordered."
   ]
  },
  {
   "cell_type": "code",
   "execution_count": 30,
   "metadata": {},
   "outputs": [
    {
     "data": {
      "image/png": "[encoded data removed]",
      "text/plain": [
       "<Figure size 432x288 with 2 Axes>"
      ]
     },
     "metadata": {
      "needs_background": "light"
     },
     "output_type": "display_data"
    }
   ],
   "source": [
    "prices = df.groupby('Product').mean()['Price Each']\n",
    "\n",
    "fig, ax1 = plt.subplots()\n",
    "\n",
    "ax2 = ax1.twinx()\n",
    "\n",
    "ax1.bar(products, quantity_ordered, color='b')\n",
    "ax2.plot(products, prices, 'g')\n",
    "\n",
    "ax1.set_xlabel('Product Name')\n",
    "ax1.set_ylabel('Quantity Ordered', color='b')\n",
    "ax2.set_ylabel('Price ($)', color='g')\n",
    "\n",
    "ax1.set_xticklabels(products, rotation='vertical', size=10)\n",
    "\n",
    "plt.show()"
   ]
  },
  {
   "cell_type": "code",
   "execution_count": null,
   "metadata": {},
   "outputs": [],
   "source": []
  }
 ],
 "metadata": {
  "kernelspec": {
   "display_name": "Python 3",
   "language": "python",
   "name": "python3"
  },
  "language_info": {
   "codemirror_mode": {
    "name": "ipython",
    "version": 3
   },
   "file_extension": ".py",
   "mimetype": "text/x-python",
   "name": "python",
   "nbconvert_exporter": "python",
   "pygments_lexer": "ipython3",
   "version": "3.7.4"
  }
 },
 "nbformat": 4,
 "nbformat_minor": 2
}
